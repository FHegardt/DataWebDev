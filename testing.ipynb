{
 "cells": [
  {
   "cell_type": "code",
   "execution_count": 1,
   "metadata": {},
   "outputs": [],
   "source": [
    "import numpy as np \n",
    "import math as math\n",
    "import pandas as pd\n",
    "\n",
    "def objective_calculator(solution,dataset): #Calculates the objective function value (cost) of any solution (tour)\n",
    "    cost = 0\n",
    "    for i in range(len(solution)-2):                     \n",
    "        cost += euclid_calculator(solution[i], solution[i+1],dataset)  #To the euclid_calculator function, send the cities in the solution whose objective function value will be calculated, two at a time\n",
    "    \n",
    "    return cost\n",
    "        \n",
    "\n",
    "def euclid_calculator(city_1, city_2, dataset): #Calculates the euclidean distance between any two cities in the dataset\n",
    "    \n",
    "    return math.sqrt((dataset.loc[city_1-1,\"x\"]-dataset.loc[city_2-1,\"x\"])**2 + (dataset.loc[city_1-1,\"y\"]-dataset.loc[city_2-1,\"y\"])**2) #Calculates the euclidean distance with formula using the city coordinates in the \"dataset\" dataframe\n",
    "    \n",
    "    \n",
    "def city_swap(city_1,city_2,current_solution,dataset): \n",
    "    \n",
    "    tour_choice=current_solution.copy()                #In these lines, an array called tour_choice is created to try the swap on that array first.\n",
    "    keeper=tour_choice[city_1].copy()\n",
    "    tour_choice[city_1]=tour_choice[city_2].copy()\n",
    "    tour_choice[city_2]=keeper \n",
    "    \n",
    "    if objective_calculator(tour_choice,dataset) < objective_calculator(current_solution,dataset): #The objective function values ​​of the new tour we tried and the previous tour are compared, checking if the new solution is better\n",
    "              #The objective function value of the tour, which is the better solution, is printed\n",
    "        current_solution=tour_choice                                             #The better tour found is assigned to current_solution i.e. kept in that variable \n",
    "     \n",
    "    return current_solution\n",
    "        \n",
    "    \n",
    "def main(dataset): #Argument of the main function is the dataset of the coordinates of the cities in \"euclidean space\"\n",
    "    np.random.seed(28) #You can choose random seed\n",
    "    partly_initial_solution= np.random.permutation(range(1,len(dataset)+1))  #Randomly sorts the city numbers and creates the starting tour (starting solution)\n",
    "    initial_solution = np.append(partly_initial_solution, [partly_initial_solution[0]]) #Adds the city at the beginning of the tour to the end of the tour to make the salesman return to where he started\n",
    "    \n",
    "    current_solution = initial_solution #Assigns the initial solution to the current solution \n",
    "    for k in range(10): #Trying to swap all cities with each other using nested for loops (You can change that \"10\" as you wish)\n",
    "        for i in range(1,len(dataset)-1):\n",
    "            for j in range(i+1,len(dataset)):\n",
    "                current_solution = city_swap(i,j,current_solution,dataset) #The cities to be swapped in the loop are sent to the city_swap function, with the current solution and dataset\n",
    "        \n",
    "    return(current_solution)\n",
    "\n"
   ]
  },
  {
   "cell_type": "code",
   "execution_count": 2,
   "metadata": {},
   "outputs": [],
   "source": [
    "import pandas as pd\n",
    "\n",
    "listaa = []\n",
    "\n",
    "no = [1,2,3,4,5,6]\n",
    "x = [1,3,5,9,12,15]\n",
    "y = [2,7,4,1,11,22]\n",
    "df = pd.DataFrame(columns=[\"no\", \"x\", \"y\"])\n",
    "df[\"no\"] = no\n",
    "df[\"x\"] = x\n",
    "df[\"y\"] = y\n",
    "\n",
    "\n",
    "dataset = df\n",
    "\n",
    "       \n",
    "arraye = main(dataset)             \n",
    "\n",
    "#[df[\"no\"][a] for a in arraye]\n"
   ]
  },
  {
   "cell_type": "code",
   "execution_count": 5,
   "metadata": {},
   "outputs": [
    {
     "name": "stdout",
     "output_type": "stream",
     "text": [
      "[0, 19.5, 20.75, 20.75, 20.75, 37.75, 44.25, 45.5, 47.5, 47.5, 41.0, 39.0, 34.5, 32.5, 32.5, 28.0, 28.0, 26, 24, 22.75, 22.75, 0]\n",
      "22\n",
      "22\n"
     ]
    }
   ],
   "source": [
    "import pandas as pd\n",
    "from ast import literal_eval\n",
    "import random\n",
    "\n",
    "df = pd.read_csv('path.csv')\n",
    "import matplotlib.pyplot as plt\n",
    "import random\n",
    "x = [random.randint(1, 100) for n in range(100)]\n",
    "y = [random.randint(1, 100) for n in range(100)]\n",
    "l3 = [[0,5.5]]\n",
    "for i in range(len(x)):\n",
    "    l3.append([x[i],y[i]])\n",
    "#print(l3)\n",
    "\n",
    "\n",
    "l1, l2 = literal_eval(df.CheminOr.values[0]), literal_eval(df.CheminInit.values[0])\n",
    "x1, y1 = [i[0] for i in l1], [i[1] for i in l1]\n",
    "print(x1)\n",
    "import pandas as pd\n",
    "\n",
    "no = [i for i in range(len(x1))]\n",
    "df = pd.DataFrame(columns=[\"no\", \"x\", \"y\"])\n",
    "df[\"no\"] = no\n",
    "df[\"x\"] = x1\n",
    "df[\"y\"] = y1\n",
    "\n",
    "\n",
    "dataset = df\n",
    "\n",
    "       \n",
    "arraye = main(dataset)    \n",
    "new_x1 = []\n",
    "new_y1 = []\n",
    "\n",
    "for i in range(len(x1)):\n",
    "    new_x1.append(x1[arraye[i]-1])\n",
    "    new_y1.append(x1[arraye[i]-1])\n",
    "    \n",
    "print(len(new_x1))\n",
    "print(len(x1))"
   ]
  }
 ],
 "metadata": {
  "kernelspec": {
   "display_name": "Python 3.9.6 64-bit",
   "language": "python",
   "name": "python3"
  },
  "language_info": {
   "codemirror_mode": {
    "name": "ipython",
    "version": 3
   },
   "file_extension": ".py",
   "mimetype": "text/x-python",
   "name": "python",
   "nbconvert_exporter": "python",
   "pygments_lexer": "ipython3",
   "version": "3.9.6"
  },
  "orig_nbformat": 4,
  "vscode": {
   "interpreter": {
    "hash": "26661b442aff7ea15cf4c9ce3f1085e1435c6171378b7b870c117ee6f69d91d7"
   }
  }
 },
 "nbformat": 4,
 "nbformat_minor": 2
}
